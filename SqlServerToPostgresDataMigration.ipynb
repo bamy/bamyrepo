{
 "cells": [
  {
   "cell_type": "code",
   "execution_count": 3,
   "id": "2db95ae3",
   "metadata": {},
   "outputs": [],
   "source": [
    "import datetime"
   ]
  },
  {
   "cell_type": "code",
   "execution_count": 4,
   "id": "3a3c05b7",
   "metadata": {},
   "outputs": [],
   "source": [
    "def handle_bit_type(bit_value):\n",
    "    return int.from_bytes(bit_value, byteorder='big')"
   ]
  },
  {
   "cell_type": "code",
   "execution_count": 7,
   "id": "2a475c4e",
   "metadata": {},
   "outputs": [
    {
     "name": "stdout",
     "output_type": "stream",
     "text": [
      "Sql server connection created\n",
      "Postgres connection created\n",
      "Fetching started for table:  organisationusertextmessagesetting\n",
      "Fetching completed for table:  organisationusertextmessagesetting\n"
     ]
    }
   ],
   "source": [
    "import pyodbc\n",
    "import psycopg2\n",
    "import psycopg2.extras\n",
    "table_list = ['organisationusertextmessagesetting']\n",
    "\n",
    "sqls_cnxn = pyodbc.connect(\"DRIVER={ODBC Driver 17 for SQL Server};SERVER=172.16.1.33\\SQL2014DEV;DATABASE=ADB_Prod_Framework_Dev;UID=adb_prod;PWD=adb_prod\")\n",
    "\n",
    "sqls_cnxn.add_output_converter(pyodbc.SQL_BIT, handle_bit_type)\n",
    "sqls_cursor = sqls_cnxn.cursor()\n",
    "\n",
    "print('Sql server connection created')\n",
    "\n",
    "sqlp_cnxn = psycopg2.connect(\n",
    "        host=\"adb-dev-pg-cluster.cluster-ch6hownygg05.us-west-2.rds.amazonaws.com\",\n",
    "        database=\"Complio_Messaging_Dev\",\n",
    "        user=\"postgres\",\n",
    "        password=\"Inter$oft2021\",\n",
    "        options=\"-c search_path=adb_prod_messaging_dev_dbo\")\n",
    "\n",
    "sqlp_cursor = sqlp_cnxn.cursor()\n",
    "\n",
    "print('Postgres connection created')\n",
    "\n",
    "#cursor.execute('SELECT * FROM adb_prod_framework_dev.dbo.lkpOrderStatus')\n",
    "\n",
    "for table_name in table_list:\n",
    "    column_names = list(map(lambda x: x.column_name.lower(), sqls_cursor.columns(table=table_name)))\n",
    "  \n",
    "    #get records from sql server\n",
    "    sqls_cursor.execute(\"select * from ADB_Prod_Framework_Dev.dbo.\"+ table_name)\n",
    "    \n",
    "    print('Fetching started for table: ', table_name)\n",
    "    rows_data = sqls_cursor.fetchall()\n",
    "    print('Fetching completed for table: ', table_name)\n",
    "    #print(rows_data)\n",
    "      \n",
    "    insert_statment = 'INSERT INTO dbo.{}({}) OVERRIDING SYSTEM VALUE VALUES  %s'.format(table_name.lower(), ', '.join(column_names))\n",
    "    #print('Insert started for table: ', table_name, datetime.now().strftime(\"%H:%M:%S\"))\n",
    "    try:\n",
    "        psycopg2.extras.execute_values(sqlp_cursor, insert_statment, rows_data, page_size = 5000)\n",
    "        #print('Insert completed for table(Transaction yet to complete): ', table_name)\n",
    "        sqlp_cursor.connection.commit()\n",
    "        #print('Transaction commited. Done!!!', datetime.now().strftime(\"%H:%M:%S\"))\n",
    "    except Exception as e:\n",
    "        print(\"Transaction can't be completed, rollback!!\", e)\n",
    "        sqlp_cursor.connection.rollback()\n",
    "    \n",
    "sqls_cursor.close()\n",
    "sqlp_cursor.close()\n",
    "\n",
    "sqls_cnxn.close()\n",
    "sqlp_cnxn.close()"
   ]
  },
  {
   "cell_type": "code",
   "execution_count": null,
   "id": "91414354",
   "metadata": {},
   "outputs": [],
   "source": []
  }
 ],
 "metadata": {
  "kernelspec": {
   "display_name": "Python 3 (ipykernel)",
   "language": "python",
   "name": "python3"
  },
  "language_info": {
   "codemirror_mode": {
    "name": "ipython",
    "version": 3
   },
   "file_extension": ".py",
   "mimetype": "text/x-python",
   "name": "python",
   "nbconvert_exporter": "python",
   "pygments_lexer": "ipython3",
   "version": "3.10.0"
  }
 },
 "nbformat": 4,
 "nbformat_minor": 5
}
